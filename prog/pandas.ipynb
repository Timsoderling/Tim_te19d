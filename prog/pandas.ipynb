import pandas as pd 
import numpy as np 
import matplotlib.pyplot as plt

df = pd.read_csv("sysselsattning.csv", encoding ="ISO-8859-1", header=1)
df = df.fillna(0)
df