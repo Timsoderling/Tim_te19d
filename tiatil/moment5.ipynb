{
 "metadata": {
  "language_info": {
   "codemirror_mode": {
    "name": "ipython",
    "version": 3
   },
   "file_extension": ".py",
   "mimetype": "text/x-python",
   "name": "python",
   "nbconvert_exporter": "python",
   "pygments_lexer": "ipython3",
   "version": "3.8.3-final"
  },
  "orig_nbformat": 2,
  "kernelspec": {
   "name": "python3",
   "display_name": "Python 3",
   "language": "python"
  }
 },
 "nbformat": 4,
 "nbformat_minor": 2,
 "cells": [
  {
   "cell_type": "code",
   "execution_count": 1,
   "metadata": {},
   "outputs": [
    {
     "output_type": "stream",
     "name": "stdout",
     "text": [
      "Tim Tjernberg TE19D NTI kronhus\n"
     ]
    }
   ],
   "source": [
    "#m05u01\n",
    "def info():\n",
    "    print(\"Tim Tjernberg TE19D NTI kronhus\")\n",
    "\n",
    "info()"
   ]
  },
  {
   "cell_type": "code",
   "execution_count": 2,
   "metadata": {},
   "outputs": [
    {
     "output_type": "stream",
     "name": "stdout",
     "text": [
      "Radien du valde: 20\nArean är: 1256.6370614359173\nOmkretsen är: 125.66370614359172\n"
     ]
    }
   ],
   "source": [
    "import math\n",
    "\n",
    "def area(r):\n",
    "    c = r*r*math.pi \n",
    "    print(f\"Arean är: {c}\")\n",
    "\n",
    "def omkrets():\n",
    "    global r\n",
    "    c = r*2*math.pi\n",
    "    print(f\"Omkretsen är: {c}\")\n",
    "\n",
    "\n",
    "r = int(input(\"Välj din radie\"))\n",
    "print(f\"Radien du valde: {r}\")\n",
    "\n",
    "area(r)\n",
    "omkrets()\n"
   ]
  },
  {
   "cell_type": "code",
   "execution_count": 3,
   "metadata": {},
   "outputs": [
    {
     "output_type": "error",
     "ename": "ModuleNotFoundError",
     "evalue": "No module named 'functions'",
     "traceback": [
      "\u001b[1;31m---------------------------------------------------------------------------\u001b[0m",
      "\u001b[1;31mModuleNotFoundError\u001b[0m                       Traceback (most recent call last)",
      "\u001b[1;32m<ipython-input-3-1a9630fe9bf1>\u001b[0m in \u001b[0;36m<module>\u001b[1;34m\u001b[0m\n\u001b[1;32m----> 1\u001b[1;33m \u001b[1;32mfrom\u001b[0m \u001b[0mfunctions\u001b[0m \u001b[1;32mimport\u001b[0m \u001b[0marea\u001b[0m \u001b[1;32mas\u001b[0m \u001b[0ma\u001b[0m\u001b[1;33m\u001b[0m\u001b[1;33m\u001b[0m\u001b[0m\n\u001b[0m\u001b[0;32m      2\u001b[0m \u001b[1;32mfrom\u001b[0m \u001b[0mfunctions\u001b[0m \u001b[1;32mimport\u001b[0m \u001b[0momkrets\u001b[0m \u001b[1;32mas\u001b[0m \u001b[0mo\u001b[0m\u001b[1;33m\u001b[0m\u001b[1;33m\u001b[0m\u001b[0m\n\u001b[0;32m      3\u001b[0m \u001b[1;33m\u001b[0m\u001b[0m\n\u001b[0;32m      4\u001b[0m \u001b[0mr\u001b[0m \u001b[1;33m=\u001b[0m \u001b[0mint\u001b[0m\u001b[1;33m(\u001b[0m\u001b[0minput\u001b[0m\u001b[1;33m(\u001b[0m\u001b[1;34m\"Välj din radie\"\u001b[0m\u001b[1;33m)\u001b[0m\u001b[1;33m)\u001b[0m\u001b[1;33m\u001b[0m\u001b[1;33m\u001b[0m\u001b[0m\n\u001b[0;32m      5\u001b[0m \u001b[0mprint\u001b[0m\u001b[1;33m(\u001b[0m\u001b[1;34mf\"Radien du valde: {r}\"\u001b[0m\u001b[1;33m)\u001b[0m\u001b[1;33m\u001b[0m\u001b[1;33m\u001b[0m\u001b[0m\n",
      "\u001b[1;31mModuleNotFoundError\u001b[0m: No module named 'functions'"
     ]
    }
   ],
   "source": [
    "\n",
    "from functions import area as a\n",
    "from functions import omkrets as o\n",
    "\n",
    "r = int(input(\"Välj din radie\"))\n",
    "print(f\"Radien du valde: {r}\")\n",
    "\n",
    "a(r)\n",
    "o()\n"
   ]
  },
  {
   "cell_type": "code",
   "execution_count": 5,
   "metadata": {},
   "outputs": [
    {
     "output_type": "error",
     "ename": "ModuleNotFoundError",
     "evalue": "No module named 'm05u07_funktioner'",
     "traceback": [
      "\u001b[1;31m---------------------------------------------------------------------------\u001b[0m",
      "\u001b[1;31mModuleNotFoundError\u001b[0m                       Traceback (most recent call last)",
      "\u001b[1;32m<ipython-input-5-0c8b7696a3c5>\u001b[0m in \u001b[0;36m<module>\u001b[1;34m\u001b[0m\n\u001b[1;32m----> 1\u001b[1;33m \u001b[1;32mfrom\u001b[0m \u001b[0mm05u07_funktioner\u001b[0m \u001b[1;32mimport\u001b[0m \u001b[1;33m*\u001b[0m\u001b[1;33m\u001b[0m\u001b[1;33m\u001b[0m\u001b[0m\n\u001b[0m\u001b[0;32m      2\u001b[0m \u001b[1;33m\u001b[0m\u001b[0m\n\u001b[0;32m      3\u001b[0m \u001b[0mjulgran\u001b[0m\u001b[1;33m(\u001b[0m\u001b[1;36m10\u001b[0m\u001b[1;33m)\u001b[0m\u001b[1;33m\u001b[0m\u001b[1;33m\u001b[0m\u001b[0m\n\u001b[0;32m      4\u001b[0m \u001b[0mtomten\u001b[0m\u001b[1;33m(\u001b[0m\u001b[1;33m)\u001b[0m\u001b[1;33m\u001b[0m\u001b[1;33m\u001b[0m\u001b[0m\n\u001b[0;32m      5\u001b[0m \u001b[1;33m\u001b[0m\u001b[0m\n",
      "\u001b[1;31mModuleNotFoundError\u001b[0m: No module named 'm05u07_funktioner'"
     ]
    }
   ],
   "source": [
    "from m05u07_funktioner import *\n",
    " \n",
    "julgran(10)\n",
    "tomten()\n",
    "\n",
    "\n",
    "# %%\n",
    "#m05u08\n",
    "\n",
    "datatyp = []\n",
    "ex_datatyp = []\n",
    "info_datatyp = []\n",
    "\n",
    "with open(\"datatyper.txt\") as f:\n",
    "    for rad in f:\n",
    "        rad = rad.split(\"|\")\n",
    "\n",
    "\n",
    "        datatyp.append(rad[0].lstrip())\n",
    "        ex_datatyp.append(rad[1].lstrip())\n",
    "        info_datatyp.append(rad[2].lstrip())\n",
    "\n",
    "for i, t in enumerate(datatyp):\n",
    "    print('{:<15}{}\\n{:<15}{}\\n{:<15}{}'.format('Datatyp:', t, 'Exempel:', ex_datatyp[i], 'Förklaring:', info_datatyp[i]))\n"
   ]
  },
  {
   "cell_type": "code",
   "execution_count": 6,
   "metadata": {},
   "outputs": [
    {
     "output_type": "error",
     "ename": "FileNotFoundError",
     "evalue": "[Errno 2] No such file or directory: 'provpoäng.txt'",
     "traceback": [
      "\u001b[1;31m---------------------------------------------------------------------------\u001b[0m",
      "\u001b[1;31mFileNotFoundError\u001b[0m                         Traceback (most recent call last)",
      "\u001b[1;32m<ipython-input-6-e7381a724d8c>\u001b[0m in \u001b[0;36m<module>\u001b[1;34m\u001b[0m\n\u001b[0;32m      2\u001b[0m \u001b[1;33m\u001b[0m\u001b[0m\n\u001b[0;32m      3\u001b[0m \u001b[1;33m\u001b[0m\u001b[0m\n\u001b[1;32m----> 4\u001b[1;33m \u001b[1;32mwith\u001b[0m \u001b[0mopen\u001b[0m\u001b[1;33m(\u001b[0m\u001b[1;34m\"provpoäng.txt\"\u001b[0m\u001b[1;33m)\u001b[0m \u001b[1;32mas\u001b[0m \u001b[0mf1\u001b[0m\u001b[1;33m:\u001b[0m\u001b[1;33m\u001b[0m\u001b[1;33m\u001b[0m\u001b[0m\n\u001b[0m\u001b[0;32m      5\u001b[0m     \u001b[1;32mfor\u001b[0m \u001b[0mrad\u001b[0m \u001b[1;32min\u001b[0m \u001b[0mf1\u001b[0m\u001b[1;33m:\u001b[0m\u001b[1;33m\u001b[0m\u001b[1;33m\u001b[0m\u001b[0m\n\u001b[0;32m      6\u001b[0m         \u001b[0mrad\u001b[0m \u001b[1;33m=\u001b[0m \u001b[0mrad\u001b[0m\u001b[1;33m.\u001b[0m\u001b[0mstrip\u001b[0m\u001b[1;33m(\u001b[0m\u001b[1;33m)\u001b[0m\u001b[1;33m\u001b[0m\u001b[1;33m\u001b[0m\u001b[0m\n",
      "\u001b[1;31mFileNotFoundError\u001b[0m: [Errno 2] No such file or directory: 'provpoäng.txt'"
     ]
    }
   ],
   "source": [
    "lista = []\n",
    "\n",
    "\n",
    "with open(\"provpoäng.txt\") as f1:\n",
    "    for rad in f1:\n",
    "        rad = rad.strip()\n",
    "        lista.append(int(rad))\n",
    "\n",
    "sortedlista = sorted(lista)\n",
    "\n",
    "for rad in sortedlista:\n",
    "    print(rad)\n",
    "\n",
    "längden = len(lista)\n",
    "\n",
    "print(f\"\\nDet finns {längden} i provpoäng filen\")\n",
    "\n",
    "summan = sum(lista)\n",
    "medel = summan//längden\n",
    "\n",
    "print(f\"Medelvärdet blir {medel} avrundad\")\n"
   ]
  },
  {
   "cell_type": "code",
   "execution_count": 7,
   "metadata": {},
   "outputs": [
    {
     "output_type": "error",
     "ename": "FileNotFoundError",
     "evalue": "[Errno 2] No such file or directory: 'provpoäng1.txt'",
     "traceback": [
      "\u001b[1;31m---------------------------------------------------------------------------\u001b[0m",
      "\u001b[1;31mFileNotFoundError\u001b[0m                         Traceback (most recent call last)",
      "\u001b[1;32m<ipython-input-7-0ef921e5b772>\u001b[0m in \u001b[0;36m<module>\u001b[1;34m\u001b[0m\n\u001b[0;32m      9\u001b[0m \u001b[1;33m\u001b[0m\u001b[0m\n\u001b[0;32m     10\u001b[0m \u001b[0malla\u001b[0m \u001b[1;33m=\u001b[0m \u001b[1;33m[\u001b[0m\u001b[1;34m\"F\"\u001b[0m\u001b[1;33m,\u001b[0m\u001b[1;34m\"E\"\u001b[0m\u001b[1;33m,\u001b[0m\u001b[1;34m\"D\"\u001b[0m\u001b[1;33m,\u001b[0m\u001b[1;34m\"C\"\u001b[0m\u001b[1;33m,\u001b[0m\u001b[1;34m\"B\"\u001b[0m\u001b[1;33m,\u001b[0m\u001b[1;34m\"A\"\u001b[0m\u001b[1;33m]\u001b[0m\u001b[1;33m\u001b[0m\u001b[1;33m\u001b[0m\u001b[0m\n\u001b[1;32m---> 11\u001b[1;33m \u001b[1;32mwith\u001b[0m \u001b[0mopen\u001b[0m\u001b[1;33m(\u001b[0m\u001b[1;34m\"provpoäng1.txt\"\u001b[0m\u001b[1;33m,\u001b[0m\u001b[1;34m\"r\"\u001b[0m\u001b[1;33m)\u001b[0m \u001b[1;32mas\u001b[0m \u001b[0mf1\u001b[0m\u001b[1;33m:\u001b[0m\u001b[1;33m\u001b[0m\u001b[1;33m\u001b[0m\u001b[0m\n\u001b[0m\u001b[0;32m     12\u001b[0m     \u001b[1;32mfor\u001b[0m \u001b[0mrad\u001b[0m \u001b[1;32min\u001b[0m \u001b[0mf1\u001b[0m\u001b[1;33m:\u001b[0m\u001b[1;33m\u001b[0m\u001b[1;33m\u001b[0m\u001b[0m\n\u001b[0;32m     13\u001b[0m         \u001b[0mrad\u001b[0m \u001b[1;33m=\u001b[0m \u001b[0mrad\u001b[0m\u001b[1;33m.\u001b[0m\u001b[0mstrip\u001b[0m\u001b[1;33m(\u001b[0m\u001b[1;34m\"\\n\"\u001b[0m\u001b[1;33m)\u001b[0m\u001b[1;33m\u001b[0m\u001b[1;33m\u001b[0m\u001b[0m\n",
      "\u001b[1;31mFileNotFoundError\u001b[0m: [Errno 2] No such file or directory: 'provpoäng1.txt'"
     ]
    }
   ],
   "source": [
    "lista =[]\n",
    "flista = []\n",
    "elista = []\n",
    "dlista = []\n",
    "clista = []\n",
    "blista = []\n",
    "alista = []\n",
    "värdet = []\n",
    "\n",
    "alla = [\"F\",\"E\",\"D\",\"C\",\"B\",\"A\"]\n",
    "with open(\"provpoäng1.txt\",\"r\") as f1:\n",
    "    for rad in f1:\n",
    "        rad = rad.strip(\"\\n\")\n",
    "        lista.append(rad)\n",
    "\n",
    "\n",
    "        sak= int(rad[-2:])\n",
    "\n",
    "        värdet.append(int(rad[-2:]))\n",
    "\n",
    "        summan = sum(värdet)\n",
    "\n",
    "        längden = len(lista)\n",
    "\n",
    "        if sak < 20:\n",
    "            flista.append(rad)\n",
    "\n",
    "        elif 29 >= sak >= 20:\n",
    "            elista.append(rad)\n",
    "            \n",
    "        elif 39 >= sak >= 30:\n",
    "            dlista.append(rad)\n",
    "            \n",
    "        elif 49 >= sak >= 40:\n",
    "            clista.append(rad)\n",
    "\n",
    "        elif 59 >= sak >= 50:\n",
    "            blista.append(rad)\n",
    "\n",
    "        elif 70 >= sak >= 60:\n",
    "            alista.append(rad)\n",
    "    \n",
    "\n",
    "    print(\"\\nF\")\n",
    "    for människa in flista:\n",
    "        print(människa)\n",
    "    \n",
    "    print(\"\\nE\")\n",
    "    for människa in elista:\n",
    "        print(människa)\n",
    "        \n",
    "    print(\"\\nD\")\n",
    "    for människa in dlista:\n",
    "        print(människa)\n",
    "    \n",
    "    print(\"\\nC\")\n",
    "    for människa in clista:\n",
    "        print(människa)\n",
    "    \n",
    "    print(\"\\nB\")\n",
    "    for människa in blista:\n",
    "        print(människa)\n",
    "    \n",
    "    print(\"\\nA\")\n",
    "    for människa in alista:\n",
    "        print(människa)\n",
    "\n",
    "medelvärdet = summan//längden\n",
    "print(f\"\\nMedelvärdet av detta är {medelvärdet} avrundad\")\n",
    "\n"
   ]
  },
  {
   "cell_type": "code",
   "execution_count": null,
   "metadata": {},
   "outputs": [],
   "source": [
    "saldo = startsaldo = 1000\n",
    "ränta = 1.03\n",
    "txt = \"pengarfil.txt\"\n",
    "\n",
    "with open(txt,\"w\") as f:\n",
    "    for år in range (1,16):\n",
    "        saldo *= ränta\n",
    "        f.write(f\"{år} {saldo:.0f} {((saldo/startsaldo)-1)*100:5.2f}%\\n\" )\n",
    "\n",
    "with open(txt) as f:\n",
    "    print(f.read())\n"
   ]
  },
  {
   "cell_type": "code",
   "execution_count": null,
   "metadata": {},
   "outputs": [],
   "source": [
    "from functions2 import*\n",
    "\n",
    "f =open(filnamn,\"w\")\n",
    "f.close()\n",
    "\n",
    "\n",
    "with open(filnamn, \"a\") as f:\n",
    "    while True:\n",
    "        inmatning = int(input(\"Skriv ett heltal programmet stängs av om du trycker 0\"))\n",
    "        if inmatning == 0:\n",
    "            f.write(\"\\nDu tryckte på 0, Nuclear weapong will deploy\")\n",
    "            break\n",
    "\n",
    "        lista.append(inmatning)\n",
    "        f.write(f\"Talet du tryckte {inmatning}, min: {minsta()}, max: {största()}, summa: {summa()}.\" )\n",
    "\n",
    "\n",
    "print(\"\\n\\nVad filen innehåller\")\n",
    "with open(filnamn) as f:\n",
    "    print(f.read())\n"
   ]
  },
  {
   "cell_type": "code",
   "execution_count": null,
   "metadata": {},
   "outputs": [],
   "source": [
    "\n",
    "import pprint\n",
    "pp = pprint.PrettyPrinter(indent=2)\n",
    "\n",
    "\n",
    "lista = []\n",
    "with open('lagring2.txt') as f:\n",
    "    for rad in f:\n",
    "        rad = rad.strip()\n",
    "        rad = rad.split('|')\n",
    "        d = {'name':rad[0], 'points': int(rad[1])}\n",
    "        lista.append(d)\n",
    "\n",
    "\n",
    "\n",
    "\n",
    "\n",
    "\n",
    "d_min = d_max = lista[0]\n",
    "summa = 0\n",
    "\n",
    "\n",
    "\n",
    "\n",
    "\n",
    "for l in lista:\n",
    "    summa += l['points']\n",
    "    if l['points'] > d_max['points']:\n",
    "        d_max = l\n",
    "    if l['points'] < d_min['points']:\n",
    "        d_min = l\n",
    "    \n",
    "l_sorted = sorted(lista, key=lambda i: i['points'], reverse=True)\n",
    "\n",
    "\n",
    "\n",
    "with open(\"m05u13_output.txt\", \"w\") as fw:\n",
    "    fw.write(\"Sorterad resultatlista, högsta poäng överst. \\n\")\n",
    "    for l in lista:\n",
    "        fw.write(f\"{l['points']:2d} | {l['name']}\\n\")\n",
    "    \n",
    "    fw.write(f\"\\n## Summering ##\\nHögsta resultat: {d_max['name']}, {d_max['points']} poäng.\"\n",
    "            f\"\\nLägsta resultat: {d_min['name']}, {d_min['points']} poäng.\" \n",
    "            f\"\\nMedelpoäng: {summa/len(lista):.2f}\")\n",
    "\n",
    "\n",
    "\n",
    "with open(\"lagring2.txt\") as f:\n",
    "    print(f.read())\n"
   ]
  }
 ]
}