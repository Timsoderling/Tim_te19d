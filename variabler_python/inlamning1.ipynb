{
 "metadata": {
  "language_info": {
   "codemirror_mode": {
    "name": "ipython",
    "version": 3
   },
   "file_extension": ".py",
   "mimetype": "text/x-python",
   "name": "python",
   "nbconvert_exporter": "python",
   "pygments_lexer": "ipython3",
   "version": "3.8.3-final"
  },
  "orig_nbformat": 2,
  "kernelspec": {
   "name": "python3",
   "display_name": "Python 3",
   "language": "python"
  }
 },
 "nbformat": 4,
 "nbformat_minor": 2,
 "cells": [
  {
   "cell_type": "code",
   "execution_count": 33,
   "metadata": {
    "tags": []
   },
   "outputs": [
    {
     "output_type": "stream",
     "name": "stdout",
     "text": "-272.15 celcius\n"
    }
   ],
   "source": [
    "# K -> C\n",
    "k = 0\n",
    "k = float(input(\"ange tempereatur i kelvin\"))\n",
    "c = +273.15\n",
    "t = k - c\n",
    "print(f\"{t} celcius\")"
   ]
  },
  {
   "cell_type": "code",
   "execution_count": 2,
   "metadata": {
    "tags": []
   },
   "outputs": [
    {
     "output_type": "stream",
     "name": "stdout",
     "text": [
      "283.15 kelvin\n"
     ]
    }
   ],
   "source": [
    "# C -> K\n",
    "c = 0\n",
    "c = float(input(\"ange tempereatur i celcius\"))\n",
    "k = -273.15\n",
    "t = c - k\n",
    "print(f\"{t} kelvin\")"
   ]
  },
  {
   "cell_type": "code",
   "execution_count": null,
   "metadata": {},
   "outputs": [],
   "source": []
  }
 ]
}