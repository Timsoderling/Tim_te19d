{
 "metadata": {
  "language_info": {
   "codemirror_mode": {
    "name": "ipython",
    "version": 3
   },
   "file_extension": ".py",
   "mimetype": "text/x-python",
   "name": "python",
   "nbconvert_exporter": "python",
   "pygments_lexer": "ipython3",
   "version": 3
  },
  "orig_nbformat": 2
 },
 "nbformat": 4,
 "nbformat_minor": 2,
 "cells": [
  {
   "cell_type": "code",
   "execution_count": null,
   "metadata": {},
   "outputs": [],
   "source": [
    "\n",
    "skolakurser = {\n",
    "    \"Matte\": \"100\",\n",
    "    \"Programmering1\": \"100\",\n",
    "    \"Svenska\" : \"100\"\n",
    "}\n",
    "\n",
    "print(skolakurser)\n"
   ]
  },
  {
   "cell_type": "code",
   "execution_count": null,
   "metadata": {},
   "outputs": [],
   "source": [
    "\n",
    "import random\n",
    "\n",
    "print(\"Frekvenstabell\")\n",
    "\n",
    "ett = []\n",
    "två = []\n",
    "tre = []\n",
    "fyra = []\n",
    "fem = []\n",
    "sex = []\n",
    "\n",
    "for i in range(1,10000):\n",
    "    talen  = random.randint(1,6)\n",
    "    if talen == 1:\n",
    "        ett.append([talen])\n",
    "    elif talen == 2:\n",
    "        två.append([talen])\n",
    "    elif talen == 3:\n",
    "        tre.append([talen])\n",
    "    elif talen == 4:\n",
    "        fyra.append([talen])\n",
    "    elif talen == 5:\n",
    "        fem.append([talen])\n",
    "    elif talen == 6:\n",
    "        sex.append([talen])\n",
    "\n",
    "\n",
    "\n",
    "tärningskast = {\n",
    "    \"1\" : len(ett),\n",
    "    \"2\" : len(två),\n",
    "    \"3\" : len(tre),\n",
    "    \"4\" : len(fyra),\n",
    "    \"5\" : len(fem),\n",
    "    \"6\" : len(sex)\n",
    "}\n",
    "\n",
    "\n",
    "for vänster, höger in tärningskast.items():\n",
    "    print(f\"{vänster}: {höger}\")\n"
   ]
  },
  {
   "cell_type": "code",
   "execution_count": null,
   "metadata": {},
   "outputs": [],
   "source": [
    "\n",
    "pokemonlista = []\n",
    "\n",
    "pokedex = {\n",
    "\n",
    "\n",
    "\n",
    "\n",
    "}\n",
    "\n",
    "\n",
    "with open(\"pokemonlista.txt\",\"r\") as f1:\n",
    "    for rad in f1:\n",
    "        print(\"Hej\")\n",
    "    for rad1 in rad:\n",
    "        print(rad1)\n"
   ]
  }
 ]
}